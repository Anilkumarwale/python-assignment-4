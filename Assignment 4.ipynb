{
 "cells": [
  {
   "cell_type": "markdown",
   "id": "8b5a7bd8",
   "metadata": {},
   "source": [
    "1. What exactly is []?\n",
    "\n",
    "Answer: [] This represents the empty container of the list.\n"
   ]
  },
  {
   "cell_type": "markdown",
   "id": "7c80d4e9",
   "metadata": {},
   "source": [
    "2. In a list of values stored in a variable called spam, how would you assign the value 'hello' as the third value? (Assume [2, 4, 6, 8, 10] are in spam.)\n",
    "\n",
    "Answer: spam[2] = 'hello'"
   ]
  },
  {
   "cell_type": "markdown",
   "id": "64e4138c",
   "metadata": {},
   "source": [
    "# Let's pretend the spam includes the list ['a', 'b', 'c', 'd'] for the next three queries."
   ]
  },
  {
   "cell_type": "code",
   "execution_count": 24,
   "id": "a570e764",
   "metadata": {},
   "outputs": [],
   "source": [
    "spam = ['a','b','c','d']"
   ]
  },
  {
   "cell_type": "markdown",
   "id": "3561ea69",
   "metadata": {},
   "source": [
    "3. What is the value of spam[int(int('3' * 2) / 11)]?\n",
    "\n",
    "Answer:\n",
    "    spam[int(int('3' * 2) / 11)] = d"
   ]
  },
  {
   "cell_type": "markdown",
   "id": "4681036e",
   "metadata": {},
   "source": [
    "4. What is the value of spam[-1]?\n",
    "\n",
    "Answer: d"
   ]
  },
  {
   "cell_type": "markdown",
   "id": "9b9f6c73",
   "metadata": {},
   "source": [
    "5. What is the value of spam[:2]?\n",
    "\n",
    "Answer: 'a', 'b'"
   ]
  },
  {
   "cell_type": "markdown",
   "id": "d1b3ff90",
   "metadata": {},
   "source": [
    "# Let's pretend bacon has the list [3.14, 'cat,' 11, 'cat,' True] for the next three questions"
   ]
  },
  {
   "cell_type": "markdown",
   "id": "f899a645",
   "metadata": {},
   "source": [
    "6. What is the value of bacon.index('cat')?\n",
    "\n",
    "Answer: 1"
   ]
  },
  {
   "cell_type": "markdown",
   "id": "bd486b55",
   "metadata": {},
   "source": [
    "7. How does bacon.append(99) change the look of the list value in bacon?\n",
    "\n",
    "Answer: bacon = [3.14,'cat',11,'cat',True,99]"
   ]
  },
  {
   "cell_type": "markdown",
   "id": "8cc09f0c",
   "metadata": {},
   "source": [
    "8. How does bacon.remove('cat') change the look of the list in bacon?\n",
    "\n",
    "Answer: bacon = [3.14,11,'cat',True]"
   ]
  },
  {
   "cell_type": "markdown",
   "id": "38e1ab3b",
   "metadata": {},
   "source": [
    "9. What are the list concatenation and list replication operators?\n",
    "\n",
    "Answer: #concatenation\n",
    "    l1 = [1,2,3]\n",
    "    l2 = [1,2,3]\n",
    "    l = l1+l2\n",
    "    \n",
    "    #replication\n",
    "    l = [1,2,3]\n",
    "    l1 = l1*2"
   ]
  },
  {
   "cell_type": "markdown",
   "id": "62cc25eb",
   "metadata": {},
   "source": [
    "10. What is difference between the list methods append() and insert()?\n",
    "\n",
    "Answer : append() adds the element in the end of the list, but insert() inserts the element wherever necessory in the list."
   ]
  },
  {
   "cell_type": "markdown",
   "id": "6f9f1eda",
   "metadata": {},
   "source": [
    "11. What are the two methods for removing items from a list?\n",
    "\n",
    "Answer: pop() and remove() are the two methods for removing items from the list."
   ]
  },
  {
   "cell_type": "markdown",
   "id": "d5380bb1",
   "metadata": {},
   "source": [
    "12. Describe how list values and string values are identical.\n",
    "\n",
    "Answer: list and string values are ordered collection of elements but list can contain different data types."
   ]
  },
  {
   "cell_type": "markdown",
   "id": "ce2ac19a",
   "metadata": {},
   "source": [
    "13. What's the difference between tuples and lists?\n",
    "\n",
    "Answers: lists are mutable and tuples are immutable."
   ]
  },
  {
   "cell_type": "markdown",
   "id": "af5a0272",
   "metadata": {},
   "source": [
    "14. How do you type a tuple value that only contains the integer 42?\n",
    "\n",
    "Answer: a = (42)"
   ]
  },
  {
   "cell_type": "markdown",
   "id": "901c4d37",
   "metadata": {},
   "source": [
    "15. How do you get a list value's tuple form? How do you get a tuple value's list form?\n",
    "\n",
    "Answer: list into tuple form\n",
    "        a = [1,2,3]\n",
    "        b = tuple(a)\n",
    "        \n",
    "        tuple into list form\n",
    "        a = (1,23,4)\n",
    "        b = list(a)"
   ]
  },
  {
   "cell_type": "markdown",
   "id": "5378398f",
   "metadata": {},
   "source": [
    "16. Variables that \"contain\" list values are not necessarily lists themselves. Instead, what do they contain?\n",
    "\n",
    "Answer: Variable contains references of list rather than the list value themselves."
   ]
  },
  {
   "cell_type": "markdown",
   "id": "fdef48c5",
   "metadata": {},
   "source": [
    "17. How do you distinguish between copy.copy() and copy.deepcopy()?\n",
    "\n",
    "Answer: The original objects will not change in deepcopy but original objects change in copy."
   ]
  },
  {
   "cell_type": "code",
   "execution_count": null,
   "id": "a8513f71",
   "metadata": {},
   "outputs": [],
   "source": []
  }
 ],
 "metadata": {
  "kernelspec": {
   "display_name": "Python 3 (ipykernel)",
   "language": "python",
   "name": "python3"
  },
  "language_info": {
   "codemirror_mode": {
    "name": "ipython",
    "version": 3
   },
   "file_extension": ".py",
   "mimetype": "text/x-python",
   "name": "python",
   "nbconvert_exporter": "python",
   "pygments_lexer": "ipython3",
   "version": "3.9.7"
  }
 },
 "nbformat": 4,
 "nbformat_minor": 5
}
